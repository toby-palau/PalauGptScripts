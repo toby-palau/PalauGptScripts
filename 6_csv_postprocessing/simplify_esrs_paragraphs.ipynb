{
 "cells": [
  {
   "cell_type": "code",
   "execution_count": 18,
   "metadata": {},
   "outputs": [],
   "source": [
    "import re\n",
    "import pandas as pd\n",
    "from langchain.llms import Together\n",
    "from langchain.chat_models import ChatOpenAI\n",
    "from langchain.schema import HumanMessage, SystemMessage\n",
    "\n",
    "import os\n",
    "from dotenv import load_dotenv\n",
    "load_dotenv()"
   ]
  },
  {
   "cell_type": "code",
   "execution_count": 15,
   "metadata": {},
   "outputs": [],
   "source": [
    "# llm = Together(\n",
    "#     temperature=0,\n",
    "#     together_api_key=os.getenv(\"TOGETHER_API_KEY\"), \n",
    "#     model=\"mistralai/Mistral-7B-Instruct-v0.2\"\n",
    "#     # model=\"mistralai/Mixtral-8x7B-Instruct-v0.1\"\n",
    "#     # model=\"togethercomputer/llama-2-70b-chat\"\n",
    "# )\n"
   ]
  },
  {
   "cell_type": "code",
   "execution_count": 22,
   "metadata": {},
   "outputs": [],
   "source": [
    "chat = ChatOpenAI(temperature=0, api_key=os.getenv(\"OPENAI_API_KEY\"), model=\"gpt-4\")\n",
    "def summarize(original_text):\n",
    "    system_message = SystemMessage(content=\"\"\"\n",
    "        Instruction: You are a helpful assistant who reads a piece of text provided by the user. If the provided text requests the disclosure of certain information, you return a clear, easy to understand, actionable implementation step that a sustainability consultant can use to properly implement the content requested in the piece of text. If the provided text doesn't request any disclosures, you give a very short, single-sentence summary of the text. Don't start your answer with \"The text...\"\n",
    "    \"\"\")\n",
    "    human_message = HumanMessage(content=f\"User input: {original_text}\")\n",
    "    summary = chat(messages=[system_message, human_message])\n",
    "    return summary.content"
   ]
  },
  {
   "cell_type": "code",
   "execution_count": 23,
   "metadata": {},
   "outputs": [],
   "source": [
    "# Read the CSV file into a dataframe\n",
    "df = pd.read_csv(\"./ESRS_E2.csv\")\n",
    "df = df.head(20)\n",
    "df[\"summary\"] = df[[\"paragraphId\", \"content\"]].apply(lambda x: summarize(x[\"content\"]), axis=1)\n",
    "df.to_csv(\"./ESRS_E2_summarized.csv\", index=False)\n"
   ]
  },
  {
   "cell_type": "code",
   "execution_count": null,
   "metadata": {},
   "outputs": [],
   "source": []
  }
 ],
 "metadata": {
  "kernelspec": {
   "display_name": "Python 3",
   "language": "python",
   "name": "python3"
  },
  "language_info": {
   "codemirror_mode": {
    "name": "ipython",
    "version": 3
   },
   "file_extension": ".py",
   "mimetype": "text/x-python",
   "name": "python",
   "nbconvert_exporter": "python",
   "pygments_lexer": "ipython3",
   "version": "3.11.6"
  }
 },
 "nbformat": 4,
 "nbformat_minor": 2
}
